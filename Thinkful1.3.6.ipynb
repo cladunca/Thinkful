{
 "cells": [
  {
   "cell_type": "code",
   "execution_count": 1,
   "metadata": {},
   "outputs": [],
   "source": [
    "import pandas as pd\n",
    "import numpy as np"
   ]
  },
  {
   "cell_type": "code",
   "execution_count": 2,
   "metadata": {},
   "outputs": [],
   "source": [
    "df = pd.read_csv('welcome2013.csv', encoding='latin1')"
   ]
  },
  {
   "cell_type": "code",
   "execution_count": 3,
   "metadata": {},
   "outputs": [
    {
     "data": {
      "text/plain": [
       "Index(['PMID/PMCID', 'Publisher', 'Journal title', 'Article title',\n",
       "       'COST (£) charged to Wellcome (inc VAT when charged)'],\n",
       "      dtype='object')"
      ]
     },
     "execution_count": 3,
     "metadata": {},
     "output_type": "execute_result"
    }
   ],
   "source": [
    "df.columns"
   ]
  },
  {
   "cell_type": "code",
   "execution_count": 4,
   "metadata": {},
   "outputs": [
    {
     "data": {
      "text/html": [
       "<div>\n",
       "<style scoped>\n",
       "    .dataframe tbody tr th:only-of-type {\n",
       "        vertical-align: middle;\n",
       "    }\n",
       "\n",
       "    .dataframe tbody tr th {\n",
       "        vertical-align: top;\n",
       "    }\n",
       "\n",
       "    .dataframe thead th {\n",
       "        text-align: right;\n",
       "    }\n",
       "</style>\n",
       "<table border=\"1\" class=\"dataframe\">\n",
       "  <thead>\n",
       "    <tr style=\"text-align: right;\">\n",
       "      <th></th>\n",
       "      <th>PMID/PMCID</th>\n",
       "      <th>Publisher</th>\n",
       "      <th>Journal Title</th>\n",
       "      <th>Article Title</th>\n",
       "      <th>Cost</th>\n",
       "    </tr>\n",
       "  </thead>\n",
       "  <tbody>\n",
       "    <tr>\n",
       "      <th>0</th>\n",
       "      <td>NaN</td>\n",
       "      <td>CUP</td>\n",
       "      <td>Psychological Medicine</td>\n",
       "      <td>Reduced parahippocampal cortical thickness in ...</td>\n",
       "      <td>£0.00</td>\n",
       "    </tr>\n",
       "    <tr>\n",
       "      <th>1</th>\n",
       "      <td>PMC3679557</td>\n",
       "      <td>ACS</td>\n",
       "      <td>Biomacromolecules</td>\n",
       "      <td>Structural characterization of a Model Gram-ne...</td>\n",
       "      <td>£2381.04</td>\n",
       "    </tr>\n",
       "    <tr>\n",
       "      <th>2</th>\n",
       "      <td>23043264  PMC3506128</td>\n",
       "      <td>ACS</td>\n",
       "      <td>J Med Chem</td>\n",
       "      <td>Fumaroylamino-4,5-epoxymorphinans and related ...</td>\n",
       "      <td>£642.56</td>\n",
       "    </tr>\n",
       "    <tr>\n",
       "      <th>3</th>\n",
       "      <td>23438330 PMC3646402</td>\n",
       "      <td>ACS</td>\n",
       "      <td>J Med Chem</td>\n",
       "      <td>Orvinols with mixed kappa/mu opioid receptor a...</td>\n",
       "      <td>£669.64</td>\n",
       "    </tr>\n",
       "    <tr>\n",
       "      <th>4</th>\n",
       "      <td>23438216 PMC3601604</td>\n",
       "      <td>ACS</td>\n",
       "      <td>J Org Chem</td>\n",
       "      <td>Regioselective opening of myo-inositol orthoes...</td>\n",
       "      <td>£685.88</td>\n",
       "    </tr>\n",
       "  </tbody>\n",
       "</table>\n",
       "</div>"
      ],
      "text/plain": [
       "              PMID/PMCID Publisher           Journal Title  \\\n",
       "0                    NaN       CUP  Psychological Medicine   \n",
       "1             PMC3679557       ACS       Biomacromolecules   \n",
       "2  23043264  PMC3506128        ACS              J Med Chem   \n",
       "3    23438330 PMC3646402       ACS              J Med Chem   \n",
       "4   23438216 PMC3601604        ACS              J Org Chem   \n",
       "\n",
       "                                       Article Title      Cost  \n",
       "0  Reduced parahippocampal cortical thickness in ...     £0.00  \n",
       "1  Structural characterization of a Model Gram-ne...  £2381.04  \n",
       "2  Fumaroylamino-4,5-epoxymorphinans and related ...   £642.56  \n",
       "3  Orvinols with mixed kappa/mu opioid receptor a...   £669.64  \n",
       "4  Regioselective opening of myo-inositol orthoes...   £685.88  "
      ]
     },
     "execution_count": 4,
     "metadata": {},
     "output_type": "execute_result"
    }
   ],
   "source": [
    "df.columns = ['PMID/PMCID', 'Publisher', 'Journal Title', 'Article Title',\n",
    "       'Cost']\n",
    "df.head()"
   ]
  },
  {
   "cell_type": "code",
   "execution_count": 5,
   "metadata": {},
   "outputs": [],
   "source": [
    "df['Cost'] = df['Cost'].str.replace('£', '')\n",
    "df['Cost'] = df['Cost'].str.replace('$', '')\n",
    "df['Cost'] = pd.to_numeric(df['Cost'])\n",
    "df['Journal Title'] = df['Journal Title'].str.lower()\n"
   ]
  },
  {
   "cell_type": "code",
   "execution_count": 8,
   "metadata": {
    "scrolled": false
   },
   "outputs": [
    {
     "data": {
      "text/plain": [
       "plos one                                                190\n",
       "journal of biological chemistry                          53\n",
       "neuroimage                                               29\n",
       "plos pathogens                                           24\n",
       "plos genetics                                            24\n",
       "nucleic acids research                                   23\n",
       "proceedings of the national academy of sciences          20\n",
       "plos neglected tropical diseases                         20\n",
       "human molecular genetics                                 19\n",
       "nature communications                                    19\n",
       "brain                                                    14\n",
       "bmc public health                                        14\n",
       "movement disorders                                       13\n",
       "developmental cell                                       12\n",
       "journal of neuroscience                                  12\n",
       "biochemical journal                                      12\n",
       "current biology                                          11\n",
       "journal of general virology                              11\n",
       "bmj                                                      10\n",
       "plosone                                                   9\n",
       "neuron                                                    9\n",
       "cell reports                                              9\n",
       "plos computational biology                                9\n",
       "bmj open                                                  9\n",
       "journal of physiology                                     8\n",
       "journal of structural biology                             8\n",
       "journal of virology                                       8\n",
       "european journal of immunology                            8\n",
       "molecular microbiology                                    8\n",
       "hepatology                                                8\n",
       "                                                       ... \n",
       "human mutation: variation, informatics, and disease       1\n",
       "american journal of pathology                             1\n",
       "cognitive processing                                      1\n",
       "frontiers in inflammation                                 1\n",
       "human brain mapping                                       1\n",
       "ethn health                                               1\n",
       "american journal of bioethics--neuroscience               1\n",
       "frontiers in schizophrenia                                1\n",
       "history workshop journal                                  1\n",
       "j clin microbiol                                          1\n",
       "g3: genes, genomes, genetics                              1\n",
       "journal of microscopy                                     1\n",
       "plos negected tropical diseases                           1\n",
       "am j trop med hyg                                         1\n",
       "journal of internal medicine                              1\n",
       "biosystems                                                1\n",
       "trends in neuroscience                                    1\n",
       "epilepsy research                                         1\n",
       "plos  computational biology                               1\n",
       "osteoarthritis and cartilage                              1\n",
       "aging cell                                                1\n",
       "international journal of biochemistry & cell biology      1\n",
       "age and ageing                                            1\n",
       "trials                                                    1\n",
       "bmc pediatrics                                            1\n",
       "american society for nutrition                            1\n",
       "stem cell research                                        1\n",
       "immunological reviews                                     1\n",
       "journal of orthopedic research                            1\n",
       "molecular and cellular biology                            1\n",
       "Name: Journal Title, Length: 928, dtype: int64"
      ]
     },
     "execution_count": 8,
     "metadata": {},
     "output_type": "execute_result"
    }
   ],
   "source": [
    "df['Journal Title'].value_counts()"
   ]
  },
  {
   "cell_type": "code",
   "execution_count": 12,
   "metadata": {},
   "outputs": [
    {
     "data": {
      "text/plain": [
       "Journal Title\n",
       "academy of nutrition and dietetics                                                           2379.540000\n",
       "acs chemical biology                                                                         1418.186000\n",
       "acs chemical neuroscience                                                                    1186.800000\n",
       "acs nano                                                                                      668.140000\n",
       "acta crystallographica section d,  biological crystallography                                 771.420000\n",
       "acta crystallographica section d: biological crystallography                                  773.740000\n",
       "acta crystallographica section f: structural biology and crystallization communications       796.635000\n",
       "acta crystallographica, section d                                                             757.180000\n",
       "acta crystallography d                                                                        774.190000\n",
       "acta d                                                                                        750.160000\n",
       "acta dermato venereologica                                                                    653.960000\n",
       "acta diabetologica                                                                           2336.280000\n",
       "acta f                                                                                        754.900000\n",
       "acta neuropathol                                                                             1901.040000\n",
       "acta neuropathologica                                                                        2161.063333\n",
       "acta opthalmologica                                                                          2270.160000\n",
       "acta physiol                                                                                 1991.500000\n",
       "addiction                                                                                    2136.225000\n",
       "advances in experimental medicine and biology                                                1928.457500\n",
       "age                                                                                          2170.140000\n",
       "age and ageing                                                                               2040.000000\n",
       "ageing & society                                                                             1695.000000\n",
       "aging cell                                                                                   1970.570000\n",
       "aids                                                                                         2059.306667\n",
       "aids behav                                                                                   1834.770000\n",
       "aids care                                                                                    2294.225000\n",
       "aids journal                                                                                 2015.720000\n",
       "aids research and therapy                                                                    1240.000000\n",
       "aids uk                                                                                      1836.920000\n",
       "alcohol and alcoholism                                                                       2040.000000\n",
       "                                                                                               ...      \n",
       "traffic                                                                                      2129.338333\n",
       "transactions of the royal society of tropical medicine and hygiene                           1524.080000\n",
       "translational psychiatry                                                                     2880.000000\n",
       "trends in cognitive science                                                                  2340.630000\n",
       "trends in genetics                                                                           2370.935000\n",
       "trends in microbiology                                                                       2291.330000\n",
       "trends in molecular medicine                                                                 2248.330000\n",
       "trends in neuroscience                                                                       2402.810000\n",
       "trends in neurosciences                                                                    501212.980000\n",
       "trends in parasitology                                                                     251692.990000\n",
       "trials                                                                                     250908.975000\n",
       "trials                                                                                       1165.000000\n",
       "trop med int health                                                                          1834.770000\n",
       "tropical animal health & production                                                          2054.780000\n",
       "tropical medicine and international health                                                   1843.163333\n",
       "tuberculosis                                                                                 2161.255000\n",
       "urban history                                                                                2034.000000\n",
       "urolithiasis                                                                                 1112.400000\n",
       "vaccine                                                                                      1623.394000\n",
       "vascular pharmacology                                                                        2352.530000\n",
       "veterinary microbiology                                                                      2451.490000\n",
       "veterinary parasitology                                                                    501243.585000\n",
       "veterinary record                                                                            2040.000000\n",
       "veterinary research                                                                             9.930000\n",
       "virology                                                                                     1928.505000\n",
       "virology journal                                                                             1242.000000\n",
       "virus research                                                                               1947.090000\n",
       "vision research                                                                            500727.590000\n",
       "visual neuroscience                                                                          2034.000000\n",
       "zoonoses and public health                                                                   2272.150000\n",
       "Name: Cost, Length: 928, dtype: float64"
      ]
     },
     "execution_count": 12,
     "metadata": {},
     "output_type": "execute_result"
    }
   ],
   "source": [
    "df['Cost'].groupby(df['Journal Title']).mean()"
   ]
  },
  {
   "cell_type": "code",
   "execution_count": 13,
   "metadata": {},
   "outputs": [
    {
     "data": {
      "text/plain": [
       "Journal Title\n",
       "academy of nutrition and dietetics                                                           2379.540\n",
       "acs chemical biology                                                                         1294.590\n",
       "acs chemical neuroscience                                                                    1186.800\n",
       "acs nano                                                                                      668.140\n",
       "acta crystallographica section d,  biological crystallography                                 771.420\n",
       "acta crystallographica section d: biological crystallography                                  773.740\n",
       "acta crystallographica section f: structural biology and crystallization communications       796.635\n",
       "acta crystallographica, section d                                                             757.180\n",
       "acta crystallography d                                                                        774.190\n",
       "acta d                                                                                        750.160\n",
       "acta dermato venereologica                                                                    653.960\n",
       "acta diabetologica                                                                           2336.280\n",
       "acta f                                                                                        754.900\n",
       "acta neuropathol                                                                             1901.040\n",
       "acta neuropathologica                                                                        2250.970\n",
       "acta opthalmologica                                                                          2270.160\n",
       "acta physiol                                                                                 1991.500\n",
       "addiction                                                                                    2136.225\n",
       "advances in experimental medicine and biology                                                1928.460\n",
       "age                                                                                          2170.140\n",
       "age and ageing                                                                               2040.000\n",
       "ageing & society                                                                             1695.000\n",
       "aging cell                                                                                   1970.570\n",
       "aids                                                                                         1968.630\n",
       "aids behav                                                                                   1834.770\n",
       "aids care                                                                                    2316.010\n",
       "aids journal                                                                                 2015.720\n",
       "aids research and therapy                                                                    1240.000\n",
       "aids uk                                                                                      1836.920\n",
       "alcohol and alcoholism                                                                       2040.000\n",
       "                                                                                              ...    \n",
       "traffic                                                                                      2273.455\n",
       "transactions of the royal society of tropical medicine and hygiene                           1524.080\n",
       "translational psychiatry                                                                     2880.000\n",
       "trends in cognitive science                                                                  2340.630\n",
       "trends in genetics                                                                           2370.935\n",
       "trends in microbiology                                                                       2291.330\n",
       "trends in molecular medicine                                                                 2248.330\n",
       "trends in neuroscience                                                                       2402.810\n",
       "trends in neurosciences                                                                    501212.980\n",
       "trends in parasitology                                                                       2384.110\n",
       "trials                                                                                       1253.250\n",
       "trials                                                                                       1165.000\n",
       "trop med int health                                                                          1834.770\n",
       "tropical animal health & production                                                          2054.780\n",
       "tropical medicine and international health                                                   1883.625\n",
       "tuberculosis                                                                                 2161.255\n",
       "urban history                                                                                2034.000\n",
       "urolithiasis                                                                                 1112.400\n",
       "vaccine                                                                                      1448.380\n",
       "vascular pharmacology                                                                        2352.530\n",
       "veterinary microbiology                                                                      2451.490\n",
       "veterinary parasitology                                                                    501243.585\n",
       "veterinary record                                                                            2040.000\n",
       "veterinary research                                                                             9.930\n",
       "virology                                                                                     1928.505\n",
       "virology journal                                                                             1242.000\n",
       "virus research                                                                               1947.090\n",
       "vision research                                                                            500727.590\n",
       "visual neuroscience                                                                          2034.000\n",
       "zoonoses and public health                                                                   2272.150\n",
       "Name: Cost, Length: 928, dtype: float64"
      ]
     },
     "execution_count": 13,
     "metadata": {},
     "output_type": "execute_result"
    }
   ],
   "source": [
    "df['Cost'].groupby(df['Journal Title']).median()"
   ]
  },
  {
   "cell_type": "code",
   "execution_count": 14,
   "metadata": {},
   "outputs": [
    {
     "data": {
      "text/plain": [
       "Journal Title\n",
       "academy of nutrition and dietetics                                                                   NaN\n",
       "acs chemical biology                                                                          507.309560\n",
       "acs chemical neuroscience                                                                            NaN\n",
       "acs nano                                                                                       35.708892\n",
       "acta crystallographica section d,  biological crystallography                                        NaN\n",
       "acta crystallographica section d: biological crystallography                                         NaN\n",
       "acta crystallographica section f: structural biology and crystallization communications        15.605847\n",
       "acta crystallographica, section d                                                                    NaN\n",
       "acta crystallography d                                                                               NaN\n",
       "acta d                                                                                               NaN\n",
       "acta dermato venereologica                                                                           NaN\n",
       "acta diabetologica                                                                                   NaN\n",
       "acta f                                                                                               NaN\n",
       "acta neuropathol                                                                                     NaN\n",
       "acta neuropathologica                                                                         244.811798\n",
       "acta opthalmologica                                                                                  NaN\n",
       "acta physiol                                                                                         NaN\n",
       "addiction                                                                                     306.481292\n",
       "advances in experimental medicine and biology                                                   0.005000\n",
       "age                                                                                           237.785868\n",
       "age and ageing                                                                                       NaN\n",
       "ageing & society                                                                                     NaN\n",
       "aging cell                                                                                           NaN\n",
       "aids                                                                                          281.067979\n",
       "aids behav                                                                                           NaN\n",
       "aids care                                                                                     126.415851\n",
       "aids journal                                                                                         NaN\n",
       "aids research and therapy                                                                            NaN\n",
       "aids uk                                                                                         0.000000\n",
       "alcohol and alcoholism                                                                               NaN\n",
       "                                                                                               ...      \n",
       "traffic                                                                                       340.691688\n",
       "transactions of the royal society of tropical medicine and hygiene                                   NaN\n",
       "translational psychiatry                                                                        0.000000\n",
       "trends in cognitive science                                                                          NaN\n",
       "trends in genetics                                                                              3.995153\n",
       "trends in microbiology                                                                               NaN\n",
       "trends in molecular medicine                                                                         NaN\n",
       "trends in neuroscience                                                                               NaN\n",
       "trends in neurosciences                                                                    705389.954206\n",
       "trends in parasitology                                                                     498870.709384\n",
       "trials                                                                                     499393.359606\n",
       "trials                                                                                               NaN\n",
       "trop med int health                                                                                  NaN\n",
       "tropical animal health & production                                                                  NaN\n",
       "tropical medicine and international health                                                    161.141743\n",
       "tuberculosis                                                                                  228.133861\n",
       "urban history                                                                                        NaN\n",
       "urolithiasis                                                                                         NaN\n",
       "vaccine                                                                                       394.821486\n",
       "vascular pharmacology                                                                                NaN\n",
       "veterinary microbiology                                                                              NaN\n",
       "veterinary parasitology                                                                    705346.672200\n",
       "veterinary record                                                                                    NaN\n",
       "veterinary research                                                                                  NaN\n",
       "virology                                                                                      697.850753\n",
       "virology journal                                                                                     NaN\n",
       "virus research                                                                                       NaN\n",
       "vision research                                                                            706076.399327\n",
       "visual neuroscience                                                                                  NaN\n",
       "zoonoses and public health                                                                           NaN\n",
       "Name: Cost, Length: 928, dtype: float64"
      ]
     },
     "execution_count": 14,
     "metadata": {},
     "output_type": "execute_result"
    }
   ],
   "source": [
    "df['Cost'].groupby(df['Journal Title']).std()"
   ]
  },
  {
   "cell_type": "code",
   "execution_count": 7,
   "metadata": {},
   "outputs": [],
   "source": []
  },
  {
   "cell_type": "code",
   "execution_count": null,
   "metadata": {},
   "outputs": [],
   "source": []
  },
  {
   "cell_type": "code",
   "execution_count": null,
   "metadata": {},
   "outputs": [],
   "source": []
  },
  {
   "cell_type": "code",
   "execution_count": null,
   "metadata": {},
   "outputs": [],
   "source": []
  },
  {
   "cell_type": "code",
   "execution_count": null,
   "metadata": {},
   "outputs": [],
   "source": []
  }
 ],
 "metadata": {
  "kernelspec": {
   "display_name": "Python 3",
   "language": "python",
   "name": "python3"
  },
  "language_info": {
   "codemirror_mode": {
    "name": "ipython",
    "version": 3
   },
   "file_extension": ".py",
   "mimetype": "text/x-python",
   "name": "python",
   "nbconvert_exporter": "python",
   "pygments_lexer": "ipython3",
   "version": "3.7.1"
  }
 },
 "nbformat": 4,
 "nbformat_minor": 2
}
